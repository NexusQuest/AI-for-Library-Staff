{
  "nbformat": 4,
  "nbformat_minor": 0,
  "metadata": {
    "colab": {
      "provenance": []
    },
    "kernelspec": {
      "name": "python3",
      "display_name": "Python 3"
    },
    "language_info": {
      "name": "python"
    }
  },
  "cells": [
    {
      "cell_type": "markdown",
      "source": [
        "# **Lab 3.1 - Transforming Library Functions with Generative AI**\n"
      ],
      "metadata": {
        "id": "4ZAL2Ow7g5zn"
      }
    },
    {
      "cell_type": "markdown",
      "source": [
        "# **Scenario**\n",
        "Lakeside Community College Library is an academic library that serves a diverse population of students, faculty, and staff. It offers a wide range of services including access to physical and digital collections, study spaces, research support, instructional workshops, technology loans, and academic events.\n",
        "<br><br>\n",
        "While the library remains a vital resource on campus, it faces growing challenges in a rapidly evolving educational landscape. Students increasingly expect personalized, on-demand support, seamless access to digital resources, and more interactive learning experiences. At the same time, staff are seeking better tools to manage workflows, evaluate resource usage, and meet rising service demands with limited time and budgets.\n",
        "<br><br>\n",
        "To meet these challenges, Lakeside Community College Library is exploring how generative AI can be integrated into its operations. The goal is to enhance the patron experience, streamline internal processes, and support student success more effectively."
      ],
      "metadata": {
        "id": "JxEmRbsMhPkt"
      }
    },
    {
      "cell_type": "markdown",
      "source": [
        "# **Learning Objectives**\n",
        "\n",
        "After completing this project, you will be able to:\n",
        "\n",
        "\n",
        "1.   Apply generative AI within key academic library functions, such as research support, instructional services, collection management, and student engagement.\n",
        "2.   Use generative AI to enhance the student and faculty experience through patron segmentation and personalized recommendations for books, databases, workshops, and academic support services.\n",
        "3.   Leverage generative AI to analyze vendor performance and digital resource usage, supporting more informed decision-making for subscriptions and licensing.\n",
        "4.   Utilize generative AI to improve patron support through intelligent virtual assistants that help students and faculty navigate library resources, find research materials, and access academic services.\n",
        "\n",
        "\n",
        "\n",
        "---\n",
        "\n",
        "\n",
        "\n",
        "\n"
      ],
      "metadata": {
        "id": "Y6YU7J0_iNZe"
      }
    },
    {
      "cell_type": "markdown",
      "source": [
        "# <em><strong>Exercise 1: Brainstorming Ideas for Lakeside Library</strong></em>\n",
        "\n",
        "Use your prompt engineering skills to generate ideas in ChatGPT for Lakeside Library! Make sure to give context, clear details, and perhaps some examples as well.\n",
        "\n"
      ],
      "metadata": {
        "id": "Rc_iIT5Gi0h3"
      }
    },
    {
      "cell_type": "markdown",
      "source": [
        "### Step 1 - Open ChatGPT and start a New Chat\n",
        "\n",
        "[ChatGPT](https://chatgpt.com)"
      ],
      "metadata": {
        "id": "NkjAg90uke5m"
      }
    },
    {
      "cell_type": "markdown",
      "source": [
        "### Step 2 - Create a prompt\n",
        "\n",
        "Write a prompt that asks ChatGPT to brainstorm ideas of how Lakeside Library can use Generative AI in their Library operations to enhance patron experience, streamline operations, and increase engagement.\n",
        "\n",
        "Enter your prmpt into ChatGPT and test it out!"
      ],
      "metadata": {
        "id": "kHPwMjD6krAa"
      }
    },
    {
      "cell_type": "markdown",
      "source": [
        "<details>\n",
        "    <summary><strong><big><big>Sample Prompt (Only use if you are stuck!)</big></big></strong></summary>\n",
        "    <p>\n",
        "\n",
        ">Consider a community college library that provides academic support through research help, study spaces, events, and access to digital and physical resources. The library wants to stay relevant in a changing academic environment and better support student success. It is exploring how generative AI can be applied across library functions to enhance patron experience, streamline operations, and increase engagement.\n",
        ">\n",
        ">\n",
        ">Generate ideas for how generative AI can be used to transform different functions and services in the library."
      ],
      "metadata": {
        "id": "n-7jGoj1njaT"
      }
    },
    {
      "cell_type": "markdown",
      "source": [
        "## **Think about it!**\n",
        "\n",
        "How do you think the implementation of generative AI in Library’s operations affects its workforce, and what strategies could be used to train its employees to be ready for this transformation?\n",
        "\n",
        "\n",
        "---\n",
        "\n"
      ],
      "metadata": {
        "id": "N-QlNVDWq0yn"
      }
    },
    {
      "cell_type": "markdown",
      "source": [
        "# <em><strong>Exercise 2: Personalizing Patron Experience at Lakeside Library</strong></em>\n",
        "\n",
        "As part of its digital transformation journey, Lakeside Community College Library is exploring how generative AI can be used to enhance the academic experience by personalizing services for students, faculty, and staff.\n",
        "Personalized experiences can drive engagement, support diverse learning needs, and improve satisfaction with library resources and programs.<br><br>\n",
        "In this exercise, you will see how generative AI can be used to segment college library patrons based on academic roles, usage patterns, research needs, and interests—and then generate personalized resource, service, and event recommendations for each segment.\n",
        "\n"
      ],
      "metadata": {
        "id": "doO6138ArE4J"
      }
    },
    {
      "cell_type": "markdown",
      "source": [
        "### Step 1 - Enter the patron data into ChatGPT\n",
        "\n",
        "In the *same* chat as Exercise 1, enter the following Patron Data into ChatGPT:\n",
        "\n",
        "> *Fictitious Patron Data:*\n",
        ">*   **Patron A** is a biology professor who frequently checks out academic journals and reserves group study rooms for student research projects.\n",
        "*   **Patron B** is a freshman who borrows textbooks and graphic novels, and regularly uses the quiet study area.\n",
        "*   **Patron C** is an education major attending resume workshops and checking out books on classroom management and career readiness.\n",
        "*   **Patron D** is a nursing student who primarily uses the online database to access e-books and scholarly articles.\n",
        "*   **Patron E** is a sophomore who participates in library-hosted mindfulness sessions and attends library events with friends.\n",
        "*   **Patron F** is a faculty member in the history department who uses the library’s archives and requests materials through interlibrary loan.\n",
        "*   **Patron G** is a returning adult student enrolled in online classes who checks out audiobooks and uses the library’s virtual chat for research help."
      ],
      "metadata": {
        "id": "YoJaZH6mrdVh"
      }
    },
    {
      "cell_type": "markdown",
      "source": [
        "### Step 2 - Segment the Patrons!\n",
        "\n",
        "Segmentation is the process of separating objects into groups. In this example, Lakeside Library is interested in seeing which patrons fall into different categories. ChatGPT can help with that!\n",
        "\n",
        "Enter the following prompt:\n",
        "\n",
        ">Based on the patron data, segment Lakeside Library users into groups such as “research-focused faculty,” “frequent student borrowers,” “digital resource users,” “career-prep seekers,” and “event participants.”\n"
      ],
      "metadata": {
        "id": "gfkvnjDKspws"
      }
    },
    {
      "cell_type": "markdown",
      "source": [
        "### Step 3 - Personalize Recommendations\n",
        "\n",
        "Now that we have segmented our patrons, Lakeside Library wants to personalize recommendataions for library resources and programs for each patron. Write a prompt that asks ChatGPT for ideas on what Lakeside Library can offer to each group."
      ],
      "metadata": {
        "id": "XnznVZlOvtal"
      }
    },
    {
      "cell_type": "markdown",
      "source": [
        "<details>\n",
        "    <summary><strong><big><big>Sample Prompt (Only use if you are stuck!)</big></big></strong></summary>\n",
        "    <p>\n",
        "    \n",
        "> Based on the patron segments above, generate tailored recommendations for library resources, services, or programs that Lakeside Library can offer to each group.\n",
        ">\n",
        ">Examples inlcude offering workshops for career-prep seekers or sending updates for academic publications for research-focused faculty.\n"
      ],
      "metadata": {
        "id": "_yr-pSbCwNl7"
      }
    },
    {
      "cell_type": "markdown",
      "source": [
        "\n",
        "\n",
        "---\n",
        "\n"
      ],
      "metadata": {
        "id": "pHALs-UNySR4"
      }
    },
    {
      "cell_type": "markdown",
      "source": [
        "# <em><strong>Exercise 3: Vendor Performance Analysis at Lakeside Library</strong></em>\n",
        "\n",
        "As part of its operational transformation, Lakeside Community College Library is exploring how generative AI can help streamline decision-making in vendor evaluation and management. The library works with multiple vendors for books, digital subscriptions, furniture, and equipment—and selecting the right vendors ensures quality service, cost-efficiency, and timely resource delivery for students and faculty.\n",
        "\n",
        "\n",
        "In this exercise, you’ll use generative AI to analyze fictitious vendor data and generate a recommendation on the best-performing vendors based on delivery speed, quality of service, cost, and reliability."
      ],
      "metadata": {
        "id": "bOqrud6fx_2K"
      }
    },
    {
      "cell_type": "markdown",
      "source": [
        "### Step 1 - Enter the vendor data into ChatGPT\n",
        "\n",
        "In the *same* chat as Exercise 2, enter the following Patron Data into ChatGPT:\n",
        "\n",
        "> <em>**Fictitious Vendor Data:**</em>\n",
        ">\n",
        "> Vendor A (Textbook distributor):\n",
        "*   Average delivery time: 5 days\n",
        "*   Order accuracy: 98%\n",
        "*   Cost per textbook: \\$48\n",
        "*   On-time delivery rate: 95%\n",
        ">\n",
        ">\n",
        ">Vendor B (Library furniture supplier):\n",
        "*   Average delivery time: 7 days\n",
        "*   Product quality: 93% meet durability standards\n",
        "*   Cost per item: \\$230\n",
        "*   On-time delivery rate: 90%\n",
        ">\n",
        ">\n",
        ">Vendor C (E-book subscription provider):\n",
        "*   Setup and integration time: 2 days\n",
        "*   Platform usability rating: 4.7/5\n",
        "*   Cost per user: \\$15/month\n",
        "*   Service uptime: 99.5%\n",
        ">\n",
        ">\n",
        ">Vendor D (Multimedia equipment vendor):\n",
        "*   Average delivery time: 4 days\n",
        "*   Product quality: 96%\n",
        "*   Cost per unit: \\$120\n",
        "*   On-time delivery rate: 92%\n"
      ],
      "metadata": {
        "id": "t9l1IMUkyoKb"
      }
    },
    {
      "cell_type": "markdown",
      "source": [
        "### Step 2 - Evaluate Vendors\n",
        "\n",
        "Lakeside Library is interested in evaluating these 4 vendors based on the information provided above. Write a prompt that asks ChatGPT to analyze the performance of each vendor and recommend the best one.\n",
        "\n",
        "Hit enter to see what ChatGPT recommends!"
      ],
      "metadata": {
        "id": "icMog3X5zfYn"
      }
    },
    {
      "cell_type": "markdown",
      "source": [
        "<details>\n",
        "    <summary><strong><big><big>Sample Prompt (Only use if you are stuck!)</big></big></strong></summary>\n",
        "    <p>\n",
        ">Lakeside Community College Library is evaluating four vendors based on delivery time, quality, cost, and reliability. Based on the data, act as a knowledgeable consultant to analyze and compare each vendor’s performance. Recommend the most suitable vendor(s) for ongoing partnerships and explain the rationale behind your recommendation."
      ],
      "metadata": {
        "id": "JJNoBudU0Ccr"
      }
    },
    {
      "cell_type": "markdown",
      "source": [
        "## **Think about it!**\n",
        "\n",
        "In what other ways could generative AI improve decision-making in vendor or resource management at the library?\n",
        "\n",
        "\n",
        "Some examples:\n",
        "*  Drafting automated vendor evaluation reports.\n",
        "*  Predicting delivery delays based on historical data.\n",
        "*  Customizing vendor contracts with AI-generated terms.\n",
        "*  Generating personalized book orders based on usage trends.\n",
        "\n",
        "\n",
        "---\n",
        "\n"
      ],
      "metadata": {
        "id": "9_4fXGV30mYc"
      }
    },
    {
      "cell_type": "markdown",
      "source": [
        "# <em><strong>Exercise 4: Predicting Resource Demand Using Generative AI</strong></em>\n",
        "\n",
        "\n",
        "In this exercise, we’ll explore how a college library—like Lakeside Community College Library—can use generative AI to analyze past usage data, seasonal trends, and student feedback to predict future demand for common library resources such as laptops, study rooms, and course-related textbooks.\n"
      ],
      "metadata": {
        "id": "R6TBToQc09XY"
      }
    },
    {
      "cell_type": "markdown",
      "source": [
        "### Step 1 - Enter the usage data into ChatGPT\n",
        "\n",
        "In the *same* chat as Exercise 3, enter the following Patron Data into ChatGPT:\n",
        "\n",
        "> <em>**Hisorical Usage Data (36 months from January):**</em>\n",
        ">\n",
        ">*   **Resource A (Laptops):**<br>[50, 55, 85, 120, 150, 30, 25, 40, 70, 100, 130, 140, 52, 57, 88, 123, 153, 32, 28, 42, 73, 102, 132, 142, 54, 60, 90, 125, 155, 34, 30, 45, 75, 105, 135, 145]\n",
        "*   **Resource B (Study Rooms):**<br>[30, 35, 70, 110, 140, 20, 18, 25, 60, 90, 125, 135, 32, 37, 73, 112, 142, 22, 20, 28, 62, 93, 127, 137, 34, 40, 75, 115, 145, 24, 22, 30, 65, 95, 130, 140]\n",
        "*   **Resource C (Course Textbooks):**<br>[60, 65, 80, 100, 130, 25, 20, 200, 70, 95, 120, 130, 62, 68, 83, 102, 132, 27, 22, 210, 73, 98, 123, 133, 65, 70, 85, 105, 135, 30, 25, 220, 75, 100, 125, 135]\n",
        ">\n",
        "> <em>**Student Feedback:**</em>\n",
        ">\n",
        ">*   **Resource A (Laptops):**<br>92% positive, more loan time and chargers requested\n",
        "*   **Resource B (Study Rooms):**<br>88% positive, want whiteboards  \n",
        "*   **Resource C (Course Textbooks):**<br>85% positive, want newer editions and more copies"
      ],
      "metadata": {
        "id": "RD2Eghfv6Xc5"
      }
    },
    {
      "cell_type": "markdown",
      "source": [
        "### Step 2 - Analyze the trends\n",
        "\n",
        "Write a prompt to analyze the trends present (considering the fact that this is a college library) in the data and predict future demand for each resource.\n",
        "\n"
      ],
      "metadata": {
        "id": "nj_lLSpA8p5b"
      }
    },
    {
      "cell_type": "markdown",
      "source": [
        "<details>\n",
        "    <summary><strong><big><big>Sample Prompt (Only use if you are stuck!)</big></big></strong></summary>\n",
        "    <p>\n",
        ">Analyze the historical usage data (36 months of data starting from January) and student feedback for trends in the college library and predict future demand for laptops, study rooms, and textbooks at Lakeside Community College Library. Include possible rationale behind the trends"
      ],
      "metadata": {
        "id": "s3lVMDEu-miR"
      }
    },
    {
      "cell_type": "markdown",
      "source": [
        "## **Think about it!**\n",
        "\n",
        "What are some benefits of using generative AI to forecast resource demand in a library?\n",
        "*   Helps avoid resource shortages\n",
        "*   Optimizes budget and staffing\n",
        "*   Improves student satisfaction and learning outcomes\n",
        "\n",
        "---"
      ],
      "metadata": {
        "id": "u9O6N1fRAoRe"
      }
    },
    {
      "cell_type": "markdown",
      "source": [
        "# <em><strong>Exercise 5: Improving Student Support with an AI-Powered Library Assistant</em></strong>\n",
        "\n",
        "Lakeside Community College Library can use generative AI to enhance student support through an AI-powered virtual assistant. This assistant can help students find books, check study room availability, learn about library policies, and get recommendations for research resources. AI can also analyze chat logs and user feedback to improve future interactions.\n",
        "\n",
        "\n",
        "In this exercise, you’ll demonstrate a conversation between the Library Assistant chatbot and a student."
      ],
      "metadata": {
        "id": "o8cAcY_uAwZk"
      }
    },
    {
      "cell_type": "markdown",
      "source": [
        "### Step 1: Write Prompt\n",
        "\n",
        "In the *same* chat as Exercise 4, copy the following prompt:\n",
        "\n",
        ">Imagine you are an AI-powered virtual assistant for Lakeside Community College Library. You help students locate books, check laptop and study room availability, recommend resources based on subject areas, and answer questions about library services. If you don’t have enough information to answer, kindly direct the user to speak with the library staff.\n",
        ">  \n",
        ">Data About Library Resources:  \n",
        "1. Laptops: 30 available; 4-hour checkout; High demand during finals week.  \n",
        "2. Study Rooms: 10 rooms; reservable up to 1 week in advance; 2-hour limit.  \n",
        "3. Popular Books:  \n",
        "   - \"Understanding Psychology\" by Feldman  \n",
        "   - \"Introduction to Computer Science\" by Brookshear  \n",
        "   - \"A Short Guide to Writing About History\" by Marius  \n",
        "   - \"College Algebra\" by Lial  \n",
        "4. Services:  \n",
        "   - Free printing for up to 20 pages/day  \n",
        "   - Librarian research help via appointment  \n",
        "   - Textbook reserve section (2-hour use only, in-library)  \n",
        "5. Library Hours: Mon–Thu: 8 AM–9 PM, Fri: 8 AM–5 PM, Sat: 10 AM–4 PM, Closed on Sunday"
      ],
      "metadata": {
        "id": "toNIHza0_xOG"
      }
    },
    {
      "cell_type": "markdown",
      "source": [
        "### Step 2: Chat with the bot!\n",
        "\n",
        "Now that we have given ChatGPT the instructions, chat with it as if you are a student!\n",
        "\n",
        "For example, try:\n",
        "\n",
        "> Hi, I need to find a book on psychology for my class. Can you help me?\n",
        "\n",
        "\n"
      ],
      "metadata": {
        "id": "BKUmmXz4Ajzk"
      }
    },
    {
      "cell_type": "markdown",
      "source": [
        "### Step 3: Continue the Conversation\n",
        "\n",
        "Try and ask it for different things, and see what it does well and what it can improve on.\n",
        "\n",
        "Optional: If you see that the bot is making mistakes on something, edit the prompt and try again!"
      ],
      "metadata": {
        "id": "GL5-wNsQA59s"
      }
    },
    {
      "cell_type": "markdown",
      "source": [
        "## **Think about it!**\n",
        "*  How could an AI-powered assistant\n",
        "improve access to information and reduce the workload for library staff?\n",
        "*  What additional services or features could make this chatbot more helpful to students?\n"
      ],
      "metadata": {
        "id": "SdNC2c-iBiVa"
      }
    }
  ]
}