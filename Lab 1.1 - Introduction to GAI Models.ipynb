{
  "nbformat": 4,
  "nbformat_minor": 0,
  "metadata": {
    "colab": {
      "provenance": [],
      "toc_visible": true
    },
    "kernelspec": {
      "name": "python3",
      "display_name": "Python 3"
    },
    "language_info": {
      "name": "python"
    }
  },
  "cells": [
    {
      "cell_type": "markdown",
      "source": [
        "# **Lab 1.1 - Introduction to Generative AI (GAI) Models**\n",
        "\n",
        "AI Models with capabilities like natural language processing and computer vision must be built completely from scratch, requiring resources in terms of data, computing, and processing throughout the whole machine learning cycle.\n",
        "<br>\n",
        "<br>\n",
        "GAI models are pre-trained models trained on vast amounts of data. They can be fine-tuned for specific tasks such as generating text, images, audio, and videos based on specific use cases. Using deep learning algorithms, these models are highly accurate at recognizing patterns and making predictions.\n",
        "<br>\n",
        "<br>\n",
        "In this lab, you will use GAI models for question-answer and text classification. You will first focus on classifying text and detecting sentiment using Google's Gemini, OpenAI's ChatGPT, and Microsoft's Copilot. Finally, you will also review various GAI models and their distinguishing features."
      ],
      "metadata": {
        "id": "QFHkutNRD7pU"
      }
    },
    {
      "cell_type": "markdown",
      "source": [
        "# **Learning Objectives**\n",
        "\n",
        "\n",
        "1.   Use pre-trained generative AI models for downstream tasks\n",
        "2.   Classify text and detect its sentiment using the Gemini and Copilot model\n",
        "3.   Get answers to your questions and converse with the Gemini and ChatGPT model\n",
        "4.   Practice prompt-engineering skills\n",
        "\n",
        "\n",
        "---\n",
        "\n"
      ],
      "metadata": {
        "id": "CnJ4_8AuOz7C"
      }
    },
    {
      "cell_type": "markdown",
      "source": [
        "#<em><strong>Exercise 1: Classify text and detect sentiment using a GAI  model</strong></em>\n",
        "\n",
        "In this exercise, you will explore how GAI models can be used to classify text and detect sentiment. These models are powerful tools for understanding language, capable of identifying whether a statement expresses a positive, negative, or neutral emotion. You will create and test prompts that ask the AI to classify text and determine its sentiment. For example, you might input a sentence like “My least preferred fruit is mango” and observe the AI classify it as negative. You’ll try multiple examples, ranging from simple to more complex sentiments. Throughout the lab, you will experiment with different phrasings to see how the AI responds, helping you understand how GAI interprets context, tone, and language. By the end of the exercise, you will have hands-on experience with how sentiment analysis works and how to craft effective prompts for language-based AI tasks.\n",
        "\n"
      ],
      "metadata": {
        "id": "09oqFa4nO-7E"
      }
    },
    {
      "cell_type": "markdown",
      "source": [
        "### Step 1: Open Gemini and Copilot in New Tabs\n",
        "\n",
        "[Google Gemini](https://gemini.google.com/)\n",
        "\n",
        "[Microsoft Copilot](https://copilot.microsoft.com/)"
      ],
      "metadata": {
        "id": "xX5fd0EpP6KH"
      }
    },
    {
      "cell_type": "markdown",
      "source": [
        "\n",
        "### Step 2: Write a relevant prompt\n",
        "\n",
        "Now use your prompt-engineering skills to write a prompt describing the sentiment-classifier described above! Remember the strategies!\n",
        "\n",
        "Sample input/output:\n",
        "\n",
        "\n",
        "```\n",
        "User: I don't like mangoes\n",
        "AI: Negative\n",
        "\n",
        "User: I got a great grade on my final project!\n",
        "AI: Positive\n",
        "\n",
        "User: Oranges are an orange fruit\n",
        "AI: Neutral\n",
        "```\n",
        "\n"
      ],
      "metadata": {
        "id": "_cJNj3BYP9Vt"
      }
    },
    {
      "cell_type": "markdown",
      "source": [
        "Enter your prompt below. This is just a place for you to type the prompt, there is no correct answer! (Hint: drag the bottom right corner of the textbox to give yourself more space to write)\n",
        "\n",
        "\n",
        "<textarea>\n",
        "</textarea>"
      ],
      "metadata": {
        "id": "KYHKoiRN5c-Y"
      }
    },
    {
      "cell_type": "markdown",
      "source": [
        "#### **Sample Prompt (Only use if you are stuck!)**"
      ],
      "metadata": {
        "id": "moQdvRQKoYx5"
      }
    },
    {
      "cell_type": "markdown",
      "source": [
        "\n",
        "\n",
        "> Act as a text classifier and detect the sentiment of the sentence. Only answer with the words Positive, Negative, or Neutral.<br><br>\n",
        "> Examples:\n",
        "```\n",
        "User: I don't like mangoes\n",
        "AI: Negative\n",
        "User: I got a great grade on my final project!\n",
        "AI: Positive\n",
        "User: Oranges are an orange fruit\n",
        "AI: Neutral\n",
        "```\n",
        "\n"
      ],
      "metadata": {
        "id": "QwCMtaS9oheD"
      }
    },
    {
      "cell_type": "markdown",
      "source": [
        "### Step 3: Test it out!\n",
        "\n",
        "Copy the prompt above into Gemini and Copilot and test it with different sentences! If your prompt didn't work fully, see if you can edit it slightly to make it more clear or clarify vague instructions.\n",
        "\n",
        "Examples:\n",
        "\n",
        "\n",
        "```\n",
        "I am so glad to see you today.\n",
        "\n",
        "The tech conference in Berlin was amazing.\n",
        "\n",
        "I feel sad to see any biker fall in the motor race.\n",
        "\n",
        "The restaurant has a good rating, but the food is below average.\n",
        "```\n",
        "\n",
        "\n",
        "---\n",
        "\n",
        "\n"
      ],
      "metadata": {
        "id": "kNkeMLZSPQV3"
      }
    },
    {
      "cell_type": "markdown",
      "source": [
        "# <em><strong>Exercise 2: Conversing with the GAI model</strong></em>\n",
        "\n",
        "\n",
        "In this exercise, you will use Generative AI (GAI) models—specifically ChatGPT and Gemini—to ask questions and receive detailed, accurate answers. These models are designed to understand and generate human-like language, making them ideal for natural language tasks such as answering questions.\n",
        "<br><br>\n",
        "You'll write prompts that ask the AI to respond as a knowledgeable source. For example, you might ask, “What is the longest word in English?” and receive a detailed explanation. You will continue experimenting by asking follow-up or maybe different questions.\n",
        "<br><br>\n",
        "This lab will help you understand how advanced models like ChatGPT, with its strong contextual awareness and language capabilities, can be used to solve problems, gather information, and enhance productivity in educational and professional settings.\n"
      ],
      "metadata": {
        "id": "968mAhXq3Rhn"
      }
    },
    {
      "cell_type": "markdown",
      "source": [
        "### Step 1: Open Gemini and ChatGPT in New Tabs\n",
        "\n",
        "[Google Gemini](https://gemini.google.com/)\n",
        "\n",
        "[OpenAI ChatGPT](https://chatgpt.com/)"
      ],
      "metadata": {
        "id": "JOLoLOB83lN1"
      }
    },
    {
      "cell_type": "markdown",
      "source": [
        "### Step 2: Explore!\n",
        "\n",
        "Ask different questions to each chatbot and compare your results! What do you notice about the responses from Gemini and ChatGPT?\n",
        "\n",
        "Example Questions:\n",
        "\n",
        "\n",
        "```\n",
        "What is the longest word in the English language?\n",
        "\n",
        "What is Agatha Christie known for?\n",
        "\n",
        "What resource is the best for researching the economy?\n",
        "```\n"
      ],
      "metadata": {
        "id": "kyGTVr2A4CM0"
      }
    },
    {
      "cell_type": "markdown",
      "source": [
        "### Step 3: Have a Conversation!\n",
        "\n",
        "One of the best parts of these GAI models is that they have memory, enabling them to have a conversation with you! Let's try this out now.\n",
        "\n",
        "Consider that you are a user looking for advice to improve your fitness. Let's converse with the chatbots. Enter the following prompt to start the conversation.\n",
        "\n",
        "\n",
        "\n",
        "```\n",
        "I want to improve my fitness and track my daily activities. Can you help me with that?\n",
        "```\n",
        "\n",
        "When you hit \"Enter,\" the bot will ask you about your current fitness activites, your fitness goals, how much time you have, etc. Try talking with the bots and respond to each of these questions. For example you could respond with:\n",
        "\n",
        "\n",
        "```\n",
        "I walk for an hour every morning and do yoga twice a week. My goal is to reduce stress and improve my flexibility.\n",
        "```\n",
        "\n",
        "Compare the outputs from different bots! Which one produced a better response?"
      ],
      "metadata": {
        "id": "wPpAGkJz78Uv"
      }
    }
  ]
}